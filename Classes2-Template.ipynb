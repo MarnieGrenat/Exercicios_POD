{
 "cells": [
  {
   "cell_type": "markdown",
   "id": "afbfe6d8-ee65-4a04-95b9-e5e77c0021f6",
   "metadata": {
    "deletable": false,
    "editable": false,
    "tags": []
   },
   "source": [
    "# [Prof. Dalvan Griebler](mailto:dalvan.griebler@pucrs.br)\n",
    "\n",
    "## Programação Orientada a Dados (POD) - Turma 10 (POD_98H04-06)\n",
    "\n",
    "**Atualizado**: 01/09/2021\n",
    "\n",
    "**Descrição**: Material de apoio as aulas sobre Python para POD\n",
    "\n",
    "**Copyright &copy;**: Este documento está sob a licensa da Criative Commons [BY-NC-ND 4.0](https://creativecommons.org/licenses/by-nc-nd/4.0/legalcode)"
   ]
  },
  {
   "cell_type": "markdown",
   "id": "573bf8f8-a9e3-4b6b-9e5a-cb2aac0b199c",
   "metadata": {
    "deletable": false,
    "editable": false,
    "tags": []
   },
   "source": [
    "# Classes em Python (Parte-2) "
   ]
  },
  {
   "cell_type": "markdown",
   "id": "ed746f3f-1962-4bcd-84de-0fc5043f4a02",
   "metadata": {
    "deletable": false,
    "editable": false,
    "tags": []
   },
   "source": [
    "Continuação do assunto sobre classes em Python"
   ]
  },
  {
   "cell_type": "markdown",
   "id": "4dac1d53-cdc9-41e8-9822-a76e0cd42ba1",
   "metadata": {},
   "source": [
    "## Sobrecarga de Operadores"
   ]
  },
  {
   "cell_type": "markdown",
   "id": "9916a59a-5473-4db5-b55d-bd0dc6354a5c",
   "metadata": {},
   "source": [
    "### Operadores Numéricos"
   ]
  },
  {
   "cell_type": "markdown",
   "id": "1e0ce97a-7bdd-4600-b760-f34aa3e90a92",
   "metadata": {},
   "source": [
    "| Operador         | Expressão  | Método Especial            |\n",
    "| ---------------- | ---------- | -------------------------- |\n",
    "| Adição           | Q1 + Q2    | \\_\\_add\\_\\_(self, Q2)      |\n",
    "| Subtração        | Q1 - Q2    | \\_\\_sub\\_\\_(self, Q2)      |\n",
    "| Multiplicação    | Q1 \\* Q2   | \\_\\_mul\\_\\_(self, Q2)      |\n",
    "| Potência         | Q1 \\*\\* Q2 | \\_\\_pow\\_\\_(self, Q2)      |\n",
    "| Divisão          | Q1 / Q2    | \\_\\_truediv\\_\\_(self, Q2)  |\n",
    "| Divisão Inteira  | Q1 // Q2   | \\_\\_floordiv\\_\\_(self, Q2) |\n",
    "| Resto da Divisão | Q1 % Q2    | \\_\\_mod\\_\\_(self, Q2)      |\n",
    "| \\-               | \\-Q1       | \\_\\_neg\\_\\_()              |\n",
    "| +                | +Q1        | \\_\\_pos\\_\\_()              |"
   ]
  },
  {
   "cell_type": "code",
   "execution_count": null,
   "id": "210b42f0-e21d-42ac-9398-e781f58dfc27",
   "metadata": {},
   "outputs": [],
   "source": []
  },
  {
   "cell_type": "markdown",
   "id": "46fa5e1d-6b57-448d-a601-eae63bf96cd7",
   "metadata": {},
   "source": [
    "### Operadores de Comparação"
   ]
  },
  {
   "cell_type": "markdown",
   "id": "1c76d622-6399-4baa-b760-36f4894d0a16",
   "metadata": {},
   "source": [
    "| Operador             | Expressão | Método Especial    |\n",
    "| -------------------- | --------- | ------------------ |\n",
    "| Igual                | Q1 == Q2  | \\_\\_eq\\_\\_(Q1, Q2) |\n",
    "| Diferente            | Q1 != Q2  | \\_\\_ne\\_\\_(Q1, Q2) |\n",
    "| Menor que            | Q1 < Q2   | \\_\\_lt\\_\\_(Q1, Q2) |\n",
    "| Menor que ou igual a | Q1 <= Q2  | \\_\\_le\\_\\_(Q1, Q2) |\n",
    "| Maior que            | Q1 > Q2   | \\_\\_gt\\_\\_(Q1, Q2) |\n",
    "| Maior que ou igual a | Q1 >= Q2  | \\_\\_ge\\_\\_(Q1, Q2) |"
   ]
  },
  {
   "cell_type": "code",
   "execution_count": null,
   "id": "ab24381b-1e3f-49e6-bf0d-b8a4278e7868",
   "metadata": {},
   "outputs": [],
   "source": []
  },
  {
   "cell_type": "markdown",
   "id": "a8424e54-e85c-4c7a-a962-2783bd9d5a5d",
   "metadata": {},
   "source": [
    "### Operadores Bitwise"
   ]
  },
  {
   "cell_type": "markdown",
   "id": "291c1860-c084-44a7-859f-b478cf13a4bd",
   "metadata": {},
   "source": [
    "| Operador                 | Expressão  | Método Especial            |\n",
    "| ------------------------ | ---------- | -------------------------- |\n",
    "| AND (bits em ambos)      | Q1 & Q2    | \\_\\_and\\_\\_(Q1, Q2)        |\n",
    "| OR (bit em qualquer)     | Q1 \\| Q2   | \\_\\_or\\_\\_(Q1, Q2)         |\n",
    "| XOR (bits em um)         | Q1 ^ Q2    | \\_\\_xor\\_\\_(Q1, Q2)        |\n",
    "| Deslocar bits a esquerda | Q1 << bits | \\_\\_lshift\\_\\_(self, bits) |\n",
    "| Deslocar bits a direita  | Q1 >> bits | \\_\\_rshift\\_\\_(self, bits) |\n",
    "| NOT (inverter bits)      | ~Q1        | \\_\\_invert\\_\\_()           |"
   ]
  },
  {
   "cell_type": "code",
   "execution_count": null,
   "id": "ab8be31f-ee52-4e00-a508-10f1dcafd96f",
   "metadata": {},
   "outputs": [],
   "source": []
  },
  {
   "cell_type": "markdown",
   "id": "99ec1b0f-f9de-4821-bd88-b21bfeb65ab9",
   "metadata": {},
   "source": [
    "### Operadores com atribuição"
   ]
  },
  {
   "cell_type": "markdown",
   "id": "5f03f3f7-e275-416d-9f36-4cef65c79e3d",
   "metadata": {},
   "source": [
    "| Operador com atribuição  | Expressão   | Método Especial             |\n",
    "| ------------------------ | ----------- | --------------------------- |\n",
    "| Adição                   | Q1 += Q2    | \\_\\_iadd\\_\\_(self, Q2)      |\n",
    "| Subtração                | Q1 -= Q2    | \\_\\_isub\\_\\_(self, Q2)      |\n",
    "| Multiplicação            | Q1 \\*= Q2   | \\_\\_imul\\_\\_(self, Q2)      |\n",
    "| Potência                 | Q1 \\*\\*= Q2 | \\_\\_ipow\\_\\_(self, Q2)      |\n",
    "| Divisão                  | Q1 /= Q2    | \\_\\_idiv\\_\\_(self, Q2)      |\n",
    "| Divisão Inteira          | Q1 //= Q2   | \\_\\_ifloordiv\\_\\_(self, Q2) |\n",
    "| Resto da Divisão         | Q1 %= Q2    | \\_\\_imod\\_\\_(self, Q2)      |\n",
    "| AND                      | Q1 &= Q2    | \\_\\_iand\\_\\_(Q1, Q2)        |\n",
    "| OR                       | Q1 \\|= Q2    | \\_\\_ior\\_\\_(Q1, Q2)        |\n",
    "| XOR                      | Q1 ^= Q2    | \\_\\_ixor\\_\\_(Q1, Q2)        |\n",
    "| Deslocar bits a esquerda | Q1 <<= Q2   | \\_\\_ilshift\\_\\_(self, bits) |\n",
    "| Deslocar bits a direita  | Q1 >>= Q2   | \\_\\_irshift\\_\\_(self, bits) |"
   ]
  },
  {
   "cell_type": "code",
   "execution_count": null,
   "id": "4b676d18-119d-4ca7-9f8d-44f6d003f1e1",
   "metadata": {},
   "outputs": [],
   "source": []
  },
  {
   "cell_type": "markdown",
   "id": "1a9661af-54c7-4a21-aebe-c2bfa6cfc8f9",
   "metadata": {},
   "source": [
    "### Operações em Strings"
   ]
  },
  {
   "cell_type": "code",
   "execution_count": null,
   "id": "bf62c8f4-ee21-4004-b9cb-ba044c4f7e8d",
   "metadata": {},
   "outputs": [],
   "source": []
  },
  {
   "cell_type": "markdown",
   "id": "8b0e8e76-7b01-41cc-bb67-d826e505a61e",
   "metadata": {},
   "source": [
    "## Exercícios de Fixação: Sobrecarga de Operadores"
   ]
  },
  {
   "cell_type": "markdown",
   "id": "16868df6-9982-4123-9d35-9c1c9a778c8b",
   "metadata": {},
   "source": [
    "1. Crie uma classe chamada Distancia, que terá implementado a sobrecarga de operadores para:\n",
    "    - Adição\n",
    "    - Subtração\n",
    "    - Multiplicação\n",
    "    - Potência\n",
    "    - Divisão\n",
    "    - Divisão inteira\n",
    "    - Resto da divisão\n",
    "2. Suporte para mostrar o resultado como uma string\n",
    "3. Suporte que estas operações possam ser feitas com números da classe `int` e `float`\n",
    "4. Suporte a operação com atribuição"
   ]
  },
  {
   "cell_type": "code",
   "execution_count": null,
   "id": "8def8d1e-9fd0-432b-984f-5d58996fcbc8",
   "metadata": {},
   "outputs": [],
   "source": []
  },
  {
   "cell_type": "markdown",
   "id": "0f4b32ac-5668-427a-a28e-e6e966e0aad1",
   "metadata": {},
   "source": [
    "## Propriedades"
   ]
  },
  {
   "cell_type": "code",
   "execution_count": null,
   "id": "f714dede-fd1c-42d8-b5e2-71d8ebceccfb",
   "metadata": {},
   "outputs": [],
   "source": []
  },
  {
   "cell_type": "markdown",
   "id": "98bfcd78-8ace-46af-ba6c-8aaa56ca9130",
   "metadata": {},
   "source": [
    "## Métodos Especiais e Atributos Intrínsecos"
   ]
  },
  {
   "cell_type": "code",
   "execution_count": null,
   "id": "e17a28ef-fbf3-4bde-b446-176658898d2b",
   "metadata": {},
   "outputs": [],
   "source": []
  },
  {
   "cell_type": "markdown",
   "id": "07c872e2-1f04-40f7-882d-4737337a0012",
   "metadata": {},
   "source": [
    "## Exercício Conta Bancária (Continuação 3)"
   ]
  },
  {
   "cell_type": "markdown",
   "id": "096c3ac4-dc4c-4f19-b2d5-718b4ca55ae4",
   "metadata": {},
   "source": [
    "1. Use decoradores na classe `ContaBancaria` para definir o acesso aos atributos. \n",
    "    - número da conta\n",
    "    - nome da pessoa\n",
    "    - saldo inicial (em reais)\n",
    "    - tipo de conta (corrente, poupança ou investimento)\n"
   ]
  },
  {
   "cell_type": "code",
   "execution_count": null,
   "id": "05744858-3468-45e2-991c-8c6f0b35f76f",
   "metadata": {},
   "outputs": [],
   "source": []
  }
 ],
 "metadata": {
  "kernelspec": {
   "display_name": "Python 3",
   "language": "python",
   "name": "python3"
  },
  "language_info": {
   "codemirror_mode": {
    "name": "ipython",
    "version": 3
   },
   "file_extension": ".py",
   "mimetype": "text/x-python",
   "name": "python",
   "nbconvert_exporter": "python",
   "pygments_lexer": "ipython3",
   "version": "3.6.9"
  }
 },
 "nbformat": 4,
 "nbformat_minor": 5
}
