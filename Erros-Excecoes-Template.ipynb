{
 "cells": [
  {
   "cell_type": "markdown",
   "id": "2bb1da21-7dc1-4341-ae4e-60ae6906e88e",
   "metadata": {},
   "source": [
    "# [Prof. Dalvan Griebler](mailto:dalvan.griebler@pucrs.br)\n",
    "\n",
    "## Programação Orientada a Dados (POD) - Turma 10 (POD_98H04-06)\n",
    "\n",
    "**Atualizado**: 09/09/2021\n",
    "\n",
    "**Descrição**: Material de apoio as aulas sobre Python para POD\n",
    "\n",
    "**Copyright &copy;**: Este documento está sob a licensa da Criative Commons [BY-NC-ND 4.0](https://creativecommons.org/licenses/by-nc-nd/4.0/legalcode)"
   ]
  },
  {
   "cell_type": "markdown",
   "id": "4ac9a416-ce7d-498d-b3ab-1a46667b05d9",
   "metadata": {},
   "source": [
    "# Erros e Exceções em Python"
   ]
  },
  {
   "cell_type": "markdown",
   "id": "1c852690-9fbb-4f02-80ca-62a5784ce265",
   "metadata": {},
   "source": [
    "## Erros Básicos"
   ]
  },
  {
   "cell_type": "code",
   "execution_count": null,
   "id": "d668ba64",
   "metadata": {},
   "outputs": [],
   "source": []
  },
  {
   "cell_type": "markdown",
   "id": "b290a900",
   "metadata": {},
   "source": [
    "## Assert"
   ]
  },
  {
   "cell_type": "code",
   "execution_count": null,
   "id": "3f9f23dc",
   "metadata": {},
   "outputs": [],
   "source": []
  },
  {
   "cell_type": "markdown",
   "id": "697c91e6",
   "metadata": {},
   "source": [
    "## Tratamento de Exceções"
   ]
  },
  {
   "cell_type": "code",
   "execution_count": null,
   "id": "df8e6286",
   "metadata": {},
   "outputs": [],
   "source": []
  },
  {
   "cell_type": "markdown",
   "id": "ac1537b7",
   "metadata": {},
   "source": [
    "## Exceções Customizadas"
   ]
  },
  {
   "cell_type": "code",
   "execution_count": null,
   "id": "6d80adf9",
   "metadata": {},
   "outputs": [],
   "source": []
  },
  {
   "cell_type": "markdown",
   "id": "c588d0aa",
   "metadata": {},
   "source": [
    "## Exceções em cadeia"
   ]
  },
  {
   "cell_type": "code",
   "execution_count": null,
   "id": "001588c3",
   "metadata": {},
   "outputs": [],
   "source": []
  },
  {
   "cell_type": "markdown",
   "id": "c69539da",
   "metadata": {},
   "source": [
    "# Exercício de Fixação: Conta Bancária (Cont-4)"
   ]
  },
  {
   "cell_type": "markdown",
   "id": "99803299",
   "metadata": {},
   "source": [
    "1. Adicionar tratamento de exceção na classe `ContaCorrente` implementada no exercício anterior, onde não é permitido o saque e depósito de valores negativos.\n",
    "    - Defina uma nova classe para tratamento de exceção chamada `ErroQuantidade`, que deve receber como parâmetro a conta e a mensagem de erro.\n",
    "    - Atualize também os métodos de depósito e saque na classe `ContaBancária`  e `ContaCorrente` para que lancem a exceção  `ErroQuantidade`  se o valor fornecido for negativo.\n",
    "    - Crie uma classe `ErroSaldo` para lidar com um possível saque abaixo ou acima do limite. É necessário mostrar a informação de qual conta gerou este erro.\n",
    "    - Use blocos `try` e `except` para realizar os testes"
   ]
  },
  {
   "cell_type": "code",
   "execution_count": null,
   "id": "9815cad0",
   "metadata": {},
   "outputs": [],
   "source": []
  }
 ],
 "metadata": {
  "kernelspec": {
   "display_name": "Python 3",
   "language": "python",
   "name": "python3"
  },
  "language_info": {
   "codemirror_mode": {
    "name": "ipython",
    "version": 3
   },
   "file_extension": ".py",
   "mimetype": "text/x-python",
   "name": "python",
   "nbconvert_exporter": "python",
   "pygments_lexer": "ipython3",
   "version": "3.6.9"
  }
 },
 "nbformat": 4,
 "nbformat_minor": 5
}
