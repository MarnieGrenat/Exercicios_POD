{
 "cells": [
  {
   "cell_type": "markdown",
   "id": "317f32b1-117a-4946-bd9c-47dd37f78ef1",
   "metadata": {},
   "source": [
    "# [Prof. Dalvan Griebler](mailto:dalvan.griebler@pucrs.br)\n",
    "\n",
    "## Programação Orientada a Dados (POD) - Turma 10 (POD_98H04-06)\n",
    "\n",
    "**Atualizado**: 31/08/2021\n",
    "\n",
    "**Descrição**: Material de apoio as aulas sobre Python para POD\n",
    "\n",
    "**Copyright &copy;**: Este documento está sob a licensa da Criative Commons [BY-NC-ND 4.0](https://creativecommons.org/licenses/by-nc-nd/4.0/legalcode)"
   ]
  },
  {
   "cell_type": "markdown",
   "id": "ee86f7eb-5297-49d3-b4d1-f6824052b6fb",
   "metadata": {},
   "source": [
    "# Classes em Python"
   ]
  },
  {
   "cell_type": "markdown",
   "id": "e4bf793d-e4e3-4873-a292-70742cec42ab",
   "metadata": {},
   "source": [
    "Tudo em python é um objeto de uma classe de coisas."
   ]
  },
  {
   "cell_type": "code",
   "execution_count": null,
   "id": "d2a38b25-1b32-4582-b590-37bc74eb85b8",
   "metadata": {},
   "outputs": [],
   "source": [
    "print(type(4))\n",
    "print(type(5.6))\n",
    "print(type(True))\n",
    "print(type('Dalvan'))\n",
    "print(type([1, 2, 3, 4]))"
   ]
  },
  {
   "cell_type": "markdown",
   "id": "7a9d5820-972d-4259-8b67-4af33e1a4cb8",
   "metadata": {},
   "source": [
    "## Definição de Classes"
   ]
  },
  {
   "cell_type": "code",
   "execution_count": null,
   "id": "baccdf64-cfb2-46a3-b8d7-178624c3f3ec",
   "metadata": {},
   "outputs": [],
   "source": []
  },
  {
   "cell_type": "markdown",
   "id": "dd2bda27-7c46-4840-b730-1aae9b555cd7",
   "metadata": {},
   "source": [
    "## Métodos da Instância da Classe"
   ]
  },
  {
   "cell_type": "code",
   "execution_count": null,
   "id": "65cdd53a-b743-4080-9b79-3e1cd5d4e4e1",
   "metadata": {},
   "outputs": [],
   "source": []
  },
  {
   "cell_type": "markdown",
   "id": "51bf713c-f4ba-4c6c-8f9f-83d731c7bda7",
   "metadata": {},
   "source": [
    "## Gerenciamento de memória"
   ]
  },
  {
   "cell_type": "code",
   "execution_count": null,
   "id": "1f369548-91c6-45f9-88ae-1d37eab9af57",
   "metadata": {},
   "outputs": [],
   "source": []
  },
  {
   "cell_type": "markdown",
   "id": "98a8d993-93c8-42c4-8876-0b614844a09f",
   "metadata": {},
   "source": [
    "## Exercício Conta Bancária"
   ]
  },
  {
   "cell_type": "markdown",
   "id": "7a4b9ef1-5960-4663-a927-48b35f815834",
   "metadata": {},
   "source": [
    "1. Defina a classe `ContaBancaria`\n",
    "2. Ao instanciar a classe, forneça:\n",
    "    - número da conta\n",
    "    - nome da pessoa\n",
    "    - balanço inicia (em reais)\n",
    "    - tipo de conta (corrente, poupança ou investimento)\n",
    "3. Fornecer três métodos de instância para esta classe\n",
    "    - `deposito(quantidade)` para efetuar o depóstio\n",
    "    - `saque(quantidade)` para efetuar o saque\n",
    "    - `saldo()`   para obter o saldo da conta \n",
    "4. Monte um teste em que você realize todas as operações bancárias, segue um exemplo de teste:\n",
    "```\n",
    "conta1 = ContaBancaria('001', 'Caetano', 10.05, 'corrente')\n",
    "conta2 = ContaBancaria('002', 'Guilherme', 23.55, 'poupança')\n",
    "conta3 = ContaBancaria('003', 'Dalvan', 12.45, 'investimento')\n",
    "print(conta1)\n",
    "print(conta2)\n",
    "print(conta3)\n",
    "conta1.deposito(44.45)\n",
    "conta1.saque(33.33)\n",
    "print('Saldo:', conta1.saldo())\n",
    "```"
   ]
  },
  {
   "cell_type": "code",
   "execution_count": null,
   "id": "996561d4-41fb-4ec7-841d-f7e7f05cb6e4",
   "metadata": {},
   "outputs": [],
   "source": []
  },
  {
   "cell_type": "markdown",
   "id": "5cd1ca06-406b-4962-87c7-f2cb7bd85187",
   "metadata": {},
   "source": [
    "## Métodos da Classe"
   ]
  },
  {
   "cell_type": "code",
   "execution_count": null,
   "id": "2b1d4454-b115-48ac-a2cb-66c6e281fad1",
   "metadata": {},
   "outputs": [],
   "source": []
  },
  {
   "cell_type": "markdown",
   "id": "25130d2f-9839-41f5-88c4-50a11edccfe7",
   "metadata": {},
   "source": [
    "## Métodos Estáticos"
   ]
  },
  {
   "cell_type": "code",
   "execution_count": null,
   "id": "eb6321e7-6ea6-48ea-9157-d1a4731345c2",
   "metadata": {},
   "outputs": [],
   "source": []
  },
  {
   "cell_type": "markdown",
   "id": "6d7db5f1-873b-452d-beab-64bcae3f082b",
   "metadata": {},
   "source": [
    "## Exercício Conta Bancária (Continuação 1)"
   ]
  },
  {
   "cell_type": "markdown",
   "id": "c2d413e4-d11e-4e8f-9b52-4e5cd7c89632",
   "metadata": {},
   "source": [
    "1. Permita o rastreamento do número de instâncias criadas da classe `ContaBancaria`\n",
    "2. Mostre na tela uma mensagem toda vez que uma instância da classe é criada\n",
    "3. Mostre na tela a quantidade de contas criadas"
   ]
  },
  {
   "cell_type": "code",
   "execution_count": null,
   "id": "188c8e7e-fdb2-48cd-bb10-d993090948d3",
   "metadata": {},
   "outputs": [],
   "source": []
  },
  {
   "cell_type": "markdown",
   "id": "f7db7e38-f231-4119-927e-4bf67ba76eb2",
   "metadata": {},
   "source": [
    "## Herança de Classes"
   ]
  },
  {
   "cell_type": "code",
   "execution_count": null,
   "id": "60a576d1-db2a-4d19-9d43-48f3bc1931eb",
   "metadata": {},
   "outputs": [],
   "source": []
  },
  {
   "cell_type": "markdown",
   "id": "e2f035b0-8282-408a-a71a-04582e636577",
   "metadata": {},
   "source": [
    "## Sobrescrita de Métodos"
   ]
  },
  {
   "cell_type": "code",
   "execution_count": null,
   "id": "17596feb-b0ce-4376-b740-4a2bd5529997",
   "metadata": {},
   "outputs": [],
   "source": []
  },
  {
   "cell_type": "markdown",
   "id": "36ec9e05-c149-4aa8-8e1b-c802e66c9068",
   "metadata": {},
   "source": [
    "## Extendendo Métodos da Superclasse"
   ]
  },
  {
   "cell_type": "code",
   "execution_count": null,
   "id": "3416127c-b600-40ab-a7c6-7fbe1cb440d7",
   "metadata": {},
   "outputs": [],
   "source": []
  },
  {
   "cell_type": "markdown",
   "id": "b07ed738-47c3-4bd1-838b-d17e4a82e35c",
   "metadata": {},
   "source": [
    "## Herança Múltipla de Classes"
   ]
  },
  {
   "cell_type": "code",
   "execution_count": null,
   "id": "4afd43f1-a6c1-47c1-980d-24a25f449314",
   "metadata": {},
   "outputs": [],
   "source": []
  },
  {
   "cell_type": "markdown",
   "id": "4b571c57-61a4-471c-ba32-db9c233082e6",
   "metadata": {},
   "source": [
    "## Acessibilidade de Atributos e Membros das Classes"
   ]
  },
  {
   "cell_type": "code",
   "execution_count": null,
   "id": "d4cb7bb5-2f06-4a2a-bbe4-6c9297d959b9",
   "metadata": {},
   "outputs": [],
   "source": []
  },
  {
   "cell_type": "markdown",
   "id": "3d2181a9-e0a1-4a9b-ad8e-7f759aaa4a72",
   "metadata": {},
   "source": [
    "## Exercício Conta Bancária (Continuação 2)"
   ]
  },
  {
   "cell_type": "markdown",
   "id": "f3c5b740-64b1-4847-919c-1f997bf43a6b",
   "metadata": {},
   "source": [
    "O objetivo é estender a classe `ContaBancaria` fornecendo três Subclasses (`ContaDeposito`, `ContaCorrente`, `ContaInvestimento`)\n",
    "1. `ContaCorrente` precisa ter um limite de saque e redefinir o método para sacar do dinheiro. Este método precisa tratar se o saque for maior que o saldo.\n",
    "2. `ContaDeposito` precisa ter uma taxa de juros associado \n",
    "3. `ContaInvestimento` precisa ter um atributo que identifica o tipo de investimento (ex. baixo risco e alto risco)\n",
    "4. Testar o funcionamento"
   ]
  },
  {
   "cell_type": "code",
   "execution_count": null,
   "id": "2886d09b-a00f-4e5b-b750-8a672b20b7f7",
   "metadata": {},
   "outputs": [],
   "source": []
  }
 ],
 "metadata": {
  "kernelspec": {
   "display_name": "Python 3",
   "language": "python",
   "name": "python3"
  },
  "language_info": {
   "codemirror_mode": {
    "name": "ipython",
    "version": 3
   },
   "file_extension": ".py",
   "mimetype": "text/x-python",
   "name": "python",
   "nbconvert_exporter": "python",
   "pygments_lexer": "ipython3",
   "version": "3.6.9"
  }
 },
 "nbformat": 4,
 "nbformat_minor": 5
}
